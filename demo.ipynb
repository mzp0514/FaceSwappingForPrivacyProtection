{
 "cells": [
  {
   "cell_type": "code",
   "execution_count": null,
   "metadata": {},
   "outputs": [],
   "source": [
    "! python ./face_extract.py --video_path ./data/raw_video/multi_people_1080p.mp4 --output_path ./data/extracted_faces --face_landmarks"
   ]
  },
  {
   "cell_type": "code",
   "execution_count": null,
   "metadata": {},
   "outputs": [],
   "source": [
    "! python ./face_analysis.py --dir ./data/extracted_faces/multi_people_1080p_output/"
   ]
  },
  {
   "cell_type": "code",
   "execution_count": null,
   "metadata": {},
   "outputs": [],
   "source": [
    "! python ./generate_faces.py"
   ]
  },
  {
   "cell_type": "code",
   "execution_count": null,
   "metadata": {},
   "outputs": [],
   "source": [
    "! python video_swap.py --crop_size 224 --use_mask  --name people --Arc_path ./arcface_model/arcface_checkpoint.tar --video_path ./data/raw_video/multi_people_1080p.mp4 --output_path ./data/output_video/multi_people_1080p_output.mp4 --temp_path ./data/temp_results --multisepcific_dir ./data/swap_faces"
   ]
  }
 ],
 "metadata": {
  "interpreter": {
   "hash": "2a9808115856469742be20427af08b4846a90d44834a0718f215688c345626b6"
  },
  "kernelspec": {
   "display_name": "Python 3.7.7 64-bit",
   "language": "python",
   "name": "python3"
  },
  "language_info": {
   "codemirror_mode": {
    "name": "ipython",
    "version": 3
   },
   "file_extension": ".py",
   "mimetype": "text/x-python",
   "name": "python",
   "nbconvert_exporter": "python",
   "pygments_lexer": "ipython3",
   "version": "3.7.7"
  },
  "orig_nbformat": 4
 },
 "nbformat": 4,
 "nbformat_minor": 2
}
